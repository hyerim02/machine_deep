{
 "cells": [
  {
   "cell_type": "markdown",
   "metadata": {},
   "source": [
    "2011년,2012년 자전거 대여 데이터  \n",
    "대여 데이터는 1시간 간격으로 기록  \n",
    "훈련 데이터는 19일까지, 테스트 데이터는 20일부터 월말까지  \n",
    "피처:날짜,시간,요일,계절,날씨,실제 온도,체감 온도,습도.풍속,회뤈 여부  \n",
    "시간별 자전거 대여 수량을 예측하면 된다  \n",
    "예측할 값이 범주형이 아니므로 회귀 문제에 속함"
   ]
  },
  {
   "cell_type": "markdown",
   "metadata": {},
   "source": [
    "**피처와 타깃값이란?**  \n",
    "피처는 원하는 값을 예측하기 위해 활용하는 데이터를 의미  \n",
    "타깃값은 예측해야 할 값  "
   ]
  },
  {
   "cell_type": "code",
   "execution_count": null,
   "metadata": {},
   "outputs": [],
   "source": []
  },
  {
   "cell_type": "code",
   "execution_count": null,
   "metadata": {},
   "outputs": [],
   "source": []
  },
  {
   "cell_type": "code",
   "execution_count": null,
   "metadata": {},
   "outputs": [],
   "source": []
  },
  {
   "cell_type": "code",
   "execution_count": null,
   "metadata": {},
   "outputs": [],
   "source": []
  },
  {
   "cell_type": "code",
   "execution_count": null,
   "metadata": {},
   "outputs": [],
   "source": []
  }
 ],
 "metadata": {
  "kernelspec": {
   "display_name": "Python 3",
   "language": "python",
   "name": "python3"
  },
  "language_info": {
   "codemirror_mode": {
    "name": "ipython",
    "version": 3
   },
   "file_extension": ".py",
   "mimetype": "text/x-python",
   "name": "python",
   "nbconvert_exporter": "python",
   "pygments_lexer": "ipython3",
   "version": "3.8.5"
  },
  "toc": {
   "base_numbering": 1,
   "nav_menu": {},
   "number_sections": true,
   "sideBar": true,
   "skip_h1_title": false,
   "title_cell": "Table of Contents",
   "title_sidebar": "Contents",
   "toc_cell": false,
   "toc_position": {},
   "toc_section_display": true,
   "toc_window_display": false
  }
 },
 "nbformat": 4,
 "nbformat_minor": 4
}
