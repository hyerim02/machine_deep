{
 "cells": [
  {
   "cell_type": "code",
   "execution_count": 1,
   "metadata": {
    "ExecuteTime": {
     "end_time": "2022-08-05T15:07:05.623381Z",
     "start_time": "2022-08-05T15:06:59.230859Z"
    }
   },
   "outputs": [],
   "source": [
    "import numpy as np \n",
    "import pandas as pd \n",
    "import matplotlib as mpl\n",
    "\n",
    "import missingno as msno\n",
    "\n",
    "import matplotlib.pyplot as plt \n",
    "%matplotlib inline \n",
    "plt.rcParams['font.family'] = 'Malgun Gothic'\n",
    "\n",
    "import seaborn as sns "
   ]
  },
  {
   "cell_type": "code",
   "execution_count": 2,
   "metadata": {
    "ExecuteTime": {
     "end_time": "2022-08-05T15:07:12.163398Z",
     "start_time": "2022-08-05T15:07:05.631765Z"
    }
   },
   "outputs": [],
   "source": [
    "train = pd.read_csv('./train.csv', index_col = 'id')\n",
    "test = pd.read_csv('./test.csv', index_col = 'id')\n",
    "submission = pd.read_csv('./sample_submission.csv', index_col = 'id')"
   ]
  },
  {
   "cell_type": "markdown",
   "metadata": {},
   "source": [
    "# 피처 엔지니어링"
   ]
  },
  {
   "cell_type": "markdown",
   "metadata": {},
   "source": [
    "## 데이터 합치기"
   ]
  },
  {
   "cell_type": "code",
   "execution_count": 3,
   "metadata": {
    "ExecuteTime": {
     "end_time": "2022-08-05T15:07:13.928865Z",
     "start_time": "2022-08-05T15:07:12.168400Z"
    }
   },
   "outputs": [
    {
     "data": {
      "text/plain": [
       "Index(['ps_ind_01', 'ps_ind_02_cat', 'ps_ind_03', 'ps_ind_04_cat',\n",
       "       'ps_ind_05_cat', 'ps_ind_06_bin', 'ps_ind_07_bin', 'ps_ind_08_bin',\n",
       "       'ps_ind_09_bin', 'ps_ind_10_bin', 'ps_ind_11_bin', 'ps_ind_12_bin',\n",
       "       'ps_ind_13_bin', 'ps_ind_14', 'ps_ind_15', 'ps_ind_16_bin',\n",
       "       'ps_ind_17_bin', 'ps_ind_18_bin', 'ps_reg_01', 'ps_reg_02', 'ps_reg_03',\n",
       "       'ps_car_01_cat', 'ps_car_02_cat', 'ps_car_03_cat', 'ps_car_04_cat',\n",
       "       'ps_car_05_cat', 'ps_car_06_cat', 'ps_car_07_cat', 'ps_car_08_cat',\n",
       "       'ps_car_09_cat', 'ps_car_10_cat', 'ps_car_11_cat', 'ps_car_11',\n",
       "       'ps_car_12', 'ps_car_13', 'ps_car_14', 'ps_car_15', 'ps_calc_01',\n",
       "       'ps_calc_02', 'ps_calc_03', 'ps_calc_04', 'ps_calc_05', 'ps_calc_06',\n",
       "       'ps_calc_07', 'ps_calc_08', 'ps_calc_09', 'ps_calc_10', 'ps_calc_11',\n",
       "       'ps_calc_12', 'ps_calc_13', 'ps_calc_14', 'ps_calc_15_bin',\n",
       "       'ps_calc_16_bin', 'ps_calc_17_bin', 'ps_calc_18_bin', 'ps_calc_19_bin',\n",
       "       'ps_calc_20_bin'],\n",
       "      dtype='object')"
      ]
     },
     "execution_count": 3,
     "metadata": {},
     "output_type": "execute_result"
    }
   ],
   "source": [
    "all_data=pd.concat([train,test])\n",
    "all_data=all_data.drop('target',axis=1)\n",
    "all_data_features=all_data.columns\n",
    "all_data_features"
   ]
  },
  {
   "cell_type": "markdown",
   "metadata": {},
   "source": [
    "## 명목형 피처 원-핫 인코딩"
   ]
  },
  {
   "cell_type": "code",
   "execution_count": 4,
   "metadata": {
    "ExecuteTime": {
     "end_time": "2022-08-05T15:07:16.589666Z",
     "start_time": "2022-08-05T15:07:13.931937Z"
    }
   },
   "outputs": [],
   "source": [
    "from sklearn.preprocessing import OneHotEncoder"
   ]
  },
  {
   "cell_type": "code",
   "execution_count": 5,
   "metadata": {
    "ExecuteTime": {
     "end_time": "2022-08-05T15:07:18.765328Z",
     "start_time": "2022-08-05T15:07:16.592598Z"
    }
   },
   "outputs": [
    {
     "data": {
      "text/plain": [
       "<1488028x184 sparse matrix of type '<class 'numpy.float64'>'\n",
       "\twith 20832392 stored elements in Compressed Sparse Row format>"
      ]
     },
     "execution_count": 5,
     "metadata": {},
     "output_type": "execute_result"
    }
   ],
   "source": [
    "cat_features=[feature for feature in all_data_features if 'cat' in feature]\n",
    "onehot=OneHotEncoder()\n",
    "encoded_cat=onehot.fit_transform(all_data[cat_features])\n",
    "encoded_cat"
   ]
  },
  {
   "cell_type": "markdown",
   "metadata": {},
   "source": [
    "## 필요 없는 피처 제거"
   ]
  },
  {
   "cell_type": "code",
   "execution_count": 6,
   "metadata": {
    "ExecuteTime": {
     "end_time": "2022-08-05T15:07:18.780375Z",
     "start_time": "2022-08-05T15:07:18.767317Z"
    }
   },
   "outputs": [],
   "source": [
    "drop_features=['ps_ind_14','ps_ind_10_bin', 'ps_ind_11_bin', 'ps_ind_12_bin',\n",
    "       'ps_ind_13_bin','ps_car_14']"
   ]
  },
  {
   "cell_type": "markdown",
   "metadata": {},
   "source": [
    "원- 핫 인코딩에서 사용한 피처와 제거한 피처를 제외한 피처들"
   ]
  },
  {
   "cell_type": "code",
   "execution_count": 7,
   "metadata": {
    "ExecuteTime": {
     "end_time": "2022-08-05T15:07:18.795276Z",
     "start_time": "2022-08-05T15:07:18.782282Z"
    }
   },
   "outputs": [],
   "source": [
    "remaining_features=[feature for feature in all_data_features\n",
    "                   if('cat' not in feature and \n",
    "                     'calc' not in feature and\n",
    "                     feature not in drop_features)]"
   ]
  },
  {
   "cell_type": "code",
   "execution_count": 8,
   "metadata": {
    "ExecuteTime": {
     "end_time": "2022-08-05T15:07:22.941087Z",
     "start_time": "2022-08-05T15:07:18.799241Z"
    }
   },
   "outputs": [],
   "source": [
    "from scipy import sparse\n",
    "all_data_sprs=sparse.hstack([sparse.csr_matrix(all_data[remaining_features]),\n",
    "                            encoded_cat],\n",
    "                           format='csr')"
   ]
  },
  {
   "cell_type": "markdown",
   "metadata": {},
   "source": [
    "hstack은 수평 방향으로 합침  \n",
    "csr형식으로 해야 메모리를 적게 쓰고 연산도 빠름"
   ]
  },
  {
   "cell_type": "markdown",
   "metadata": {},
   "source": [
    "## 데이 나누기"
   ]
  },
  {
   "cell_type": "code",
   "execution_count": 9,
   "metadata": {
    "ExecuteTime": {
     "end_time": "2022-08-05T15:07:23.726853Z",
     "start_time": "2022-08-05T15:07:22.945213Z"
    }
   },
   "outputs": [],
   "source": [
    "num_train=len(train)\n",
    "X=all_data_sprs[:num_train]\n",
    "X_test=all_data_sprs[num_train:]\n",
    "y=train['target'].values"
   ]
  },
  {
   "cell_type": "markdown",
   "metadata": {},
   "source": [
    "# 평가지표 함수 작성"
   ]
  },
  {
   "cell_type": "markdown",
   "metadata": {},
   "source": [
    "## 지니계수"
   ]
  },
  {
   "cell_type": "markdown",
   "metadata": {},
   "source": [
    "**지니계수란?**  \n",
    "원래 경제학에서 쓰는 용어  \n",
    "소득 불평등 정도를 나타내는 지표  \n",
    "작을수록 평등하고, 클수록 불평등    \n",
    "모든 경제인구를 소득 순서대로 나열한 후에 가로축은 인구 누적 비율, 세로축은 소득 누적 점유율로 설정  \n",
    "인구 누적 비율과 소득 누적 점유율을 연결한 선인 로렌츠 곡선을 이용해 계산  "
   ]
  },
  {
   "attachments": {
    "image.png": {
     "image/png": "[encoded data removed]"
    }
   },
   "cell_type": "markdown",
   "metadata": {},
   "source": [
    "![image.png](attachment:image.png)"
   ]
  },
  {
   "cell_type": "markdown",
   "metadata": {},
   "source": [
    "A가 좁을수록 평등"
   ]
  },
  {
   "cell_type": "markdown",
   "metadata": {},
   "source": [
    "머신러닝에서는 모델의 예측 성능을 측정하는데 사용  \n",
    "예측값을 크기순으로 정렬해서 로렌츠 곡선을 구함"
   ]
  },
  {
   "cell_type": "markdown",
   "metadata": {},
   "source": [
    "정규화 지니계수=$\\frac{예측값에 대한 지니계수}{예측이 완벽할 때의 지니계수}$  \n",
    "예측값에 대한 지니계수: 예측값과 실제값으로 구한 지니계수  \n",
    "예측이 완벽할 때의 지니계수: 실제값과 실제값으로 구한 지니계수"
   ]
  },
  {
   "cell_type": "code",
   "execution_count": 10,
   "metadata": {
    "ExecuteTime": {
     "end_time": "2022-08-05T15:07:23.757491Z",
     "start_time": "2022-08-05T15:07:23.732560Z"
    }
   },
   "outputs": [],
   "source": [
    "def eval_gini(y_true, y_pred) : \n",
    "    # 실제값과 예측값의 크기가 서로 같은지 확인(다르면 에러 발생)\n",
    "    assert y_true.shape == y_pred.shape\n",
    "    \n",
    "    # 데이터 개수\n",
    "    n_samples = y_true.shape[0]\n",
    "    # 대각선 값 \n",
    "    L_mid = np.linspace(1/n_samples, 1, n_samples)\n",
    "    \n",
    "    # 1. 예측값에 대한 지니계수\n",
    "    pred_order = y_true[y_pred.argsort()]\n",
    "    L_pred = np.cumsum(pred_order) / np.sum(pred_order)\n",
    "    G_pred = np.sum(L_mid - L_pred)\n",
    "    \n",
    "    # 2. 예측이 완벽할 때 지니계수\n",
    "    true_order = y_true[y_true.argsort()]\n",
    "    L_true = np.cumsum(true_order) / np.sum(true_order)\n",
    "    G_true = np.sum(L_mid - L_true)\n",
    "    \n",
    "    # 정규화된 지니계수\n",
    "    return G_pred / G_true"
   ]
  },
  {
   "cell_type": "markdown",
   "metadata": {},
   "source": [
    "## 피처 엔지니어링"
   ]
  },
  {
   "cell_type": "markdown",
   "metadata": {},
   "source": [
    "모델 훈련 시 검증 파라미터에 전달하기 위한 함수"
   ]
  },
  {
   "cell_type": "code",
   "execution_count": 11,
   "metadata": {
    "ExecuteTime": {
     "end_time": "2022-08-05T15:07:23.772338Z",
     "start_time": "2022-08-05T15:07:23.763718Z"
    }
   },
   "outputs": [],
   "source": [
    "# XGBoost용 gini() 함수\n",
    "def gini(preds, dtrain) : \n",
    "    labels = dtrain.get_label()\n",
    "    return 'gini', eval_gini(labels, preds)"
   ]
  },
  {
   "cell_type": "markdown",
   "metadata": {},
   "source": [
    "# XGBoost"
   ]
  },
  {
   "cell_type": "markdown",
   "metadata": {},
   "source": [
    "## 하이퍼파라미터 최적화"
   ]
  },
  {
   "cell_type": "code",
   "execution_count": 12,
   "metadata": {
    "ExecuteTime": {
     "end_time": "2022-08-05T15:07:24.629272Z",
     "start_time": "2022-08-05T15:07:23.777526Z"
    }
   },
   "outputs": [],
   "source": [
    "import xgboost as xgb\n",
    "from sklearn.model_selection import train_test_split\n",
    "X_train, X_valid, y_train, y_valid = \\\n",
    "train_test_split(X, y, test_size = 0.2, random_state = 0)\n",
    "\n",
    "# 베이지안 최적화용 데이터셋 \n",
    "bayes_dtrain = xgb.DMatrix(X_train, y_train)\n",
    "bayes_dvalid = xgb.DMatrix(X_valid, y_valid)"
   ]
  },
  {
   "cell_type": "markdown",
   "metadata": {},
   "source": [
    "범위 설정"
   ]
  },
  {
   "cell_type": "code",
   "execution_count": 13,
   "metadata": {
    "ExecuteTime": {
     "end_time": "2022-08-05T15:07:24.644606Z",
     "start_time": "2022-08-05T15:07:24.632446Z"
    }
   },
   "outputs": [],
   "source": [
    "param_bounds = {'max_depth' : (4, 8), \n",
    "                'subsample' : (0.6, 0.9),\n",
    "                'colsample_bytree' : (0.7, 1.0),\n",
    "                'min_child_weight' : (5, 7),\n",
    "                'gamma' : (8, 11),\n",
    "                'reg_alpha' : (7, 9), \n",
    "                'reg_lambda' : (1.1, 1.5),\n",
    "                'scale_pos_weight':(1.4,1.6)}\n",
    "\n",
    "fixed_params = {'objective' : 'binary:logistic' ,\n",
    "                'learning_rate' : 0.02,\n",
    "                'random_state' : 1991}"
   ]
  },
  {
   "cell_type": "markdown",
   "metadata": {},
   "source": [
    "베이지안 최적화용 평가지표 계산 함수 작성"
   ]
  },
  {
   "cell_type": "code",
   "execution_count": 15,
   "metadata": {
    "ExecuteTime": {
     "end_time": "2022-08-05T15:08:26.738676Z",
     "start_time": "2022-08-05T15:08:26.719557Z"
    }
   },
   "outputs": [],
   "source": [
    "def eval_function(max_depth, subsample, colsample_bytree, min_child_weight,\n",
    "                  gamma, reg_alpha, reg_lambda,scale_pos_weight) : \n",
    "    \n",
    "    # 베이지안 최적화를 수행할 하이퍼 파라미터 \n",
    "    params = {'max_depth' : int(round(max_depth)), \n",
    "                'subsample' : subsample,\n",
    "                'colsample_bytree' : colsample_bytree,\n",
    "                'min_child_weight' : min_child_weight,\n",
    "                'gamma' : gamma,\n",
    "                'reg_alpha' : reg_alpha, \n",
    "                'reg_lambda' : reg_lambda,\n",
    "                'scale_pos_weight' : scale_pos_weight}\n",
    "    \n",
    "    # 고정된 하이퍼 파라미터\n",
    "    params.update(fixed_params)\n",
    "    \n",
    "    print('하이퍼파라미터 : ', params)\n",
    "    \n",
    "    # XGBoost 훈련 \n",
    "    xgb_model = xgb.train(params = params,\n",
    "                          dtrain= bayes_dtrain,\n",
    "                          num_boost_round = 2000, \n",
    "                          evals=[(bayes_dvalid,'bayes_dvalid')],\n",
    "                          maximize=True,\n",
    "                          feval=gini,\n",
    "                          early_stopping_rounds = 200,\n",
    "                          verbose_eval = False)\n",
    "    best_iter=xgb_model.best_iteration\n",
    "    \n",
    "    # 검증 데이터로 예측 수행 \n",
    "    preds = xgb_model.predict(bayes_dvalid,iteration_range=(0,best_iter))\n",
    "    \n",
    "    # 지니계수\n",
    "    gini_score = eval_gini(y_valid, preds)\n",
    "    print(f'지니계수 : {gini_score}\\n')\n",
    "    \n",
    "    return gini_score"
   ]
  },
  {
   "cell_type": "markdown",
   "metadata": {},
   "source": [
    "## 최적화 수행"
   ]
  },
  {
   "cell_type": "code",
   "execution_count": 16,
   "metadata": {
    "ExecuteTime": {
     "end_time": "2022-08-05T15:08:26.783379Z",
     "start_time": "2022-08-05T15:08:26.740495Z"
    }
   },
   "outputs": [],
   "source": [
    "from bayes_opt import BayesianOptimization\n",
    "\n",
    "optimizer = BayesianOptimization(f = eval_function, \n",
    "                                 pbounds = param_bounds,\n",
    "                                 random_state = 0)"
   ]
  },
  {
   "cell_type": "code",
   "execution_count": 17,
   "metadata": {
    "ExecuteTime": {
     "end_time": "2022-08-05T17:17:22.865552Z",
     "start_time": "2022-08-05T15:08:26.785640Z"
    }
   },
   "outputs": [
    {
     "name": "stdout",
     "output_type": "stream",
     "text": [
      "|   iter    |  target   | colsam... |   gamma   | max_depth | min_ch... | reg_alpha | reg_la... | scale_... | subsample |\n",
      "-------------------------------------------------------------------------------------------------------------------------\n",
      "하이퍼파라미터 :  {'max_depth': 6, 'subsample': 0.867531900234624, 'colsample_bytree': 0.8646440511781974, 'min_child_weight': 6.0897663659937935, 'gamma': 10.14556809911726, 'reg_alpha': 7.84730959867781, 'reg_lambda': 1.3583576452266626, 'scale_pos_weight': 1.4875174422525386, 'objective': 'binary:logistic', 'learning_rate': 0.02, 'random_state': 1991}\n"
     ]
    },
    {
     "name": "stderr",
     "output_type": "stream",
     "text": [
      "C:\\ProgramData\\Anaconda3\\lib\\site-packages\\xgboost\\training.py:35: UserWarning: `feval` is deprecated, use `custom_metric` instead.  They have different behavior when custom objective is also used.See https://xgboost.readthedocs.io/en/latest/tutorials/custom_metric_obj.html for details on the `custom_metric`.\n",
      "  warnings.warn(\n"
     ]
    },
    {
     "name": "stdout",
     "output_type": "stream",
     "text": [
      "지니계수 : 0.2836559647242793\n",
      "\n",
      "| \u001b[0m 1       \u001b[0m | \u001b[0m 0.2837  \u001b[0m | \u001b[0m 0.8646  \u001b[0m | \u001b[0m 10.15   \u001b[0m | \u001b[0m 6.411   \u001b[0m | \u001b[0m 6.09    \u001b[0m | \u001b[0m 7.847   \u001b[0m | \u001b[0m 1.358   \u001b[0m | \u001b[0m 1.488   \u001b[0m | \u001b[0m 0.8675  \u001b[0m |\n",
      "하이퍼파라미터 :  {'max_depth': 7, 'subsample': 0.6261387899104622, 'colsample_bytree': 0.9890988281503088, 'min_child_weight': 6.0577898395058085, 'gamma': 9.150324556477333, 'reg_alpha': 8.136089122187865, 'reg_lambda': 1.4702386553170643, 'scale_pos_weight': 1.4142072116395774, 'objective': 'binary:logistic', 'learning_rate': 0.02, 'random_state': 1991}\n",
      "지니계수 : 0.285323894164524\n",
      "\n",
      "| \u001b[95m 2       \u001b[0m | \u001b[95m 0.2853  \u001b[0m | \u001b[95m 0.9891  \u001b[0m | \u001b[95m 9.15    \u001b[0m | \u001b[95m 7.167   \u001b[0m | \u001b[95m 6.058   \u001b[0m | \u001b[95m 8.136   \u001b[0m | \u001b[95m 1.47    \u001b[0m | \u001b[95m 1.414   \u001b[0m | \u001b[95m 0.6261  \u001b[0m |\n",
      "하이퍼파라미터 :  {'max_depth': 7, 'subsample': 0.8341587528859367, 'colsample_bytree': 0.7060655192320977, 'min_child_weight': 6.7400242964936385, 'gamma': 10.497859536643814, 'reg_alpha': 8.957236684465528, 'reg_lambda': 1.4196634256866894, 'scale_pos_weight': 1.4922958724505864, 'objective': 'binary:logistic', 'learning_rate': 0.02, 'random_state': 1991}\n",
      "지니계수 : 0.283784777414736\n",
      "\n",
      "| \u001b[0m 3       \u001b[0m | \u001b[0m 0.2838  \u001b[0m | \u001b[0m 0.7061  \u001b[0m | \u001b[0m 10.5    \u001b[0m | \u001b[0m 7.113   \u001b[0m | \u001b[0m 6.74    \u001b[0m | \u001b[0m 8.957   \u001b[0m | \u001b[0m 1.42    \u001b[0m | \u001b[0m 1.492   \u001b[0m | \u001b[0m 0.8342  \u001b[0m |\n",
      "하이퍼파라미터 :  {'max_depth': 7, 'subsample': 0.7001630536555632, 'colsample_bytree': 0.8843124587484356, 'min_child_weight': 6.494091293383359, 'gamma': 10.452246227672624, 'reg_alpha': 8.551838810159788, 'reg_lambda': 1.3814765995549108, 'scale_pos_weight': 1.423280772455086, 'objective': 'binary:logistic', 'learning_rate': 0.02, 'random_state': 1991}\n"
     ]
    },
    {
     "name": "stderr",
     "output_type": "stream",
     "text": [
      "C:\\ProgramData\\Anaconda3\\lib\\site-packages\\xgboost\\training.py:35: UserWarning: `feval` is deprecated, use `custom_metric` instead.  They have different behavior when custom objective is also used.See https://xgboost.readthedocs.io/en/latest/tutorials/custom_metric_obj.html for details on the `custom_metric`.\n",
      "  warnings.warn(\n"
     ]
    },
    {
     "name": "stdout",
     "output_type": "stream",
     "text": [
      "지니계수 : 0.2852690104802081\n",
      "\n",
      "| \u001b[0m 4       \u001b[0m | \u001b[0m 0.2853  \u001b[0m | \u001b[0m 0.8843  \u001b[0m | \u001b[0m 10.45   \u001b[0m | \u001b[0m 6.838   \u001b[0m | \u001b[0m 6.494   \u001b[0m | \u001b[0m 8.552   \u001b[0m | \u001b[0m 1.381   \u001b[0m | \u001b[0m 1.423   \u001b[0m | \u001b[0m 0.7002  \u001b[0m |\n",
      "하이퍼파라미터 :  {'max_depth': 7, 'subsample': 0.8535233675350644, 'colsample_bytree': 0.92975858050776, 'min_child_weight': 6.249564429359247, 'gamma': 9.95563546750357, 'reg_alpha': 8.411512219837842, 'reg_lambda': 1.424460008293778, 'scale_pos_weight': 1.5416807226581535, 'objective': 'binary:logistic', 'learning_rate': 0.02, 'random_state': 1991}\n"
     ]
    },
    {
     "name": "stderr",
     "output_type": "stream",
     "text": [
      "C:\\ProgramData\\Anaconda3\\lib\\site-packages\\xgboost\\training.py:35: UserWarning: `feval` is deprecated, use `custom_metric` instead.  They have different behavior when custom objective is also used.See https://xgboost.readthedocs.io/en/latest/tutorials/custom_metric_obj.html for details on the `custom_metric`.\n",
      "  warnings.warn(\n"
     ]
    },
    {
     "name": "stdout",
     "output_type": "stream",
     "text": [
      "지니계수 : 0.2854698436010303\n",
      "\n",
      "| \u001b[95m 5       \u001b[0m | \u001b[95m 0.2855  \u001b[0m | \u001b[95m 0.9298  \u001b[0m | \u001b[95m 9.956   \u001b[0m | \u001b[95m 6.809   \u001b[0m | \u001b[95m 6.25    \u001b[0m | \u001b[95m 8.412   \u001b[0m | \u001b[95m 1.424   \u001b[0m | \u001b[95m 1.542   \u001b[0m | \u001b[95m 0.8535  \u001b[0m |\n",
      "하이퍼파라미터 :  {'max_depth': 7, 'subsample': 0.6462619019069298, 'colsample_bytree': 0.80929192865947, 'min_child_weight': 6.079999276892042, 'gamma': 9.553916776586505, 'reg_alpha': 8.860396362258099, 'reg_lambda': 1.4050740023119348, 'scale_pos_weight': 1.4668544695338273, 'objective': 'binary:logistic', 'learning_rate': 0.02, 'random_state': 1991}\n"
     ]
    },
    {
     "name": "stderr",
     "output_type": "stream",
     "text": [
      "C:\\ProgramData\\Anaconda3\\lib\\site-packages\\xgboost\\training.py:35: UserWarning: `feval` is deprecated, use `custom_metric` instead.  They have different behavior when custom objective is also used.See https://xgboost.readthedocs.io/en/latest/tutorials/custom_metric_obj.html for details on the `custom_metric`.\n",
      "  warnings.warn(\n"
     ]
    },
    {
     "name": "stdout",
     "output_type": "stream",
     "text": [
      "지니계수 : 0.2856142564722939\n",
      "\n",
      "| \u001b[95m 6       \u001b[0m | \u001b[95m 0.2856  \u001b[0m | \u001b[95m 0.8093  \u001b[0m | \u001b[95m 9.554   \u001b[0m | \u001b[95m 6.532   \u001b[0m | \u001b[95m 6.08    \u001b[0m | \u001b[95m 8.86    \u001b[0m | \u001b[95m 1.405   \u001b[0m | \u001b[95m 1.467   \u001b[0m | \u001b[95m 0.6463  \u001b[0m |\n",
      "하이퍼파라미터 :  {'max_depth': 7, 'subsample': 0.6931141936797243, 'colsample_bytree': 0.8817801730078565, 'min_child_weight': 6.992334203641873, 'gamma': 9.013424730095146, 'reg_alpha': 7.640858389939128, 'reg_lambda': 1.3562805915715632, 'scale_pos_weight': 1.449446257931491, 'objective': 'binary:logistic', 'learning_rate': 0.02, 'random_state': 1991}\n"
     ]
    },
    {
     "name": "stderr",
     "output_type": "stream",
     "text": [
      "C:\\ProgramData\\Anaconda3\\lib\\site-packages\\xgboost\\training.py:35: UserWarning: `feval` is deprecated, use `custom_metric` instead.  They have different behavior when custom objective is also used.See https://xgboost.readthedocs.io/en/latest/tutorials/custom_metric_obj.html for details on the `custom_metric`.\n",
      "  warnings.warn(\n"
     ]
    },
    {
     "name": "stdout",
     "output_type": "stream",
     "text": [
      "지니계수 : 0.2851756681853027\n",
      "\n",
      "| \u001b[0m 7       \u001b[0m | \u001b[0m 0.2852  \u001b[0m | \u001b[0m 0.8818  \u001b[0m | \u001b[0m 9.013   \u001b[0m | \u001b[0m 6.927   \u001b[0m | \u001b[0m 6.992   \u001b[0m | \u001b[0m 7.641   \u001b[0m | \u001b[0m 1.356   \u001b[0m | \u001b[0m 1.449   \u001b[0m | \u001b[0m 0.6931  \u001b[0m |\n",
      "하이퍼파라미터 :  {'max_depth': 5, 'subsample': 0.6261564417044092, 'colsample_bytree': 0.8763145220620449, 'min_child_weight': 5.135323353557588, 'gamma': 8.39495450163982, 'reg_alpha': 8.950443047087845, 'reg_lambda': 1.4235649099168255, 'scale_pos_weight': 1.5217625173811569, 'objective': 'binary:logistic', 'learning_rate': 0.02, 'random_state': 1991}\n"
     ]
    },
    {
     "name": "stderr",
     "output_type": "stream",
     "text": [
      "C:\\ProgramData\\Anaconda3\\lib\\site-packages\\xgboost\\training.py:35: UserWarning: `feval` is deprecated, use `custom_metric` instead.  They have different behavior when custom objective is also used.See https://xgboost.readthedocs.io/en/latest/tutorials/custom_metric_obj.html for details on the `custom_metric`.\n",
      "  warnings.warn(\n"
     ]
    },
    {
     "name": "stdout",
     "output_type": "stream",
     "text": [
      "지니계수 : 0.2847997272806962\n",
      "\n",
      "| \u001b[0m 8       \u001b[0m | \u001b[0m 0.2848  \u001b[0m | \u001b[0m 0.8763  \u001b[0m | \u001b[0m 8.395   \u001b[0m | \u001b[0m 4.561   \u001b[0m | \u001b[0m 5.135   \u001b[0m | \u001b[0m 8.95    \u001b[0m | \u001b[0m 1.424   \u001b[0m | \u001b[0m 1.522   \u001b[0m | \u001b[0m 0.6262  \u001b[0m |\n",
      "하이퍼파라미터 :  {'max_depth': 6, 'subsample': 0.857971740304964, 'colsample_bytree': 0.9583821245229369, 'min_child_weight': 6.158305055403563, 'gamma': 9.305332775334449, 'reg_alpha': 8.200928434091152, 'reg_lambda': 1.2571039588093065, 'scale_pos_weight': 1.4700266933495618, 'objective': 'binary:logistic', 'learning_rate': 0.02, 'random_state': 1991}\n"
     ]
    },
    {
     "name": "stderr",
     "output_type": "stream",
     "text": [
      "C:\\ProgramData\\Anaconda3\\lib\\site-packages\\xgboost\\training.py:35: UserWarning: `feval` is deprecated, use `custom_metric` instead.  They have different behavior when custom objective is also used.See https://xgboost.readthedocs.io/en/latest/tutorials/custom_metric_obj.html for details on the `custom_metric`.\n",
      "  warnings.warn(\n"
     ]
    },
    {
     "name": "stdout",
     "output_type": "stream",
     "text": [
      "지니계수 : 0.28477701037665965\n",
      "\n",
      "| \u001b[0m 9       \u001b[0m | \u001b[0m 0.2848  \u001b[0m | \u001b[0m 0.9584  \u001b[0m | \u001b[0m 9.305   \u001b[0m | \u001b[0m 5.594   \u001b[0m | \u001b[0m 6.158   \u001b[0m | \u001b[0m 8.201   \u001b[0m | \u001b[0m 1.257   \u001b[0m | \u001b[0m 1.47    \u001b[0m | \u001b[0m 0.858   \u001b[0m |\n",
      "=========================================================================================================================\n"
     ]
    }
   ],
   "source": [
    "optimizer.maximize(init_points = 3, n_iter = 6)"
   ]
  },
  {
   "cell_type": "markdown",
   "metadata": {},
   "source": [
    "## 결과 확인"
   ]
  },
  {
   "cell_type": "code",
   "execution_count": 18,
   "metadata": {
    "ExecuteTime": {
     "end_time": "2022-08-05T17:17:22.895474Z",
     "start_time": "2022-08-05T17:17:22.872533Z"
    }
   },
   "outputs": [
    {
     "data": {
      "text/plain": [
       "{'colsample_bytree': 0.80929192865947,\n",
       " 'gamma': 9.553916776586505,\n",
       " 'max_depth': 6.531941709363455,\n",
       " 'min_child_weight': 6.079999276892042,\n",
       " 'reg_alpha': 8.860396362258099,\n",
       " 'reg_lambda': 1.4050740023119348,\n",
       " 'scale_pos_weight': 1.4668544695338273,\n",
       " 'subsample': 0.6462619019069298}"
      ]
     },
     "execution_count": 18,
     "metadata": {},
     "output_type": "execute_result"
    }
   ],
   "source": [
    "max_params = optimizer.max['params']\n",
    "max_params"
   ]
  },
  {
   "cell_type": "code",
   "execution_count": 19,
   "metadata": {
    "ExecuteTime": {
     "end_time": "2022-08-05T17:17:22.910516Z",
     "start_time": "2022-08-05T17:17:22.898464Z"
    }
   },
   "outputs": [
    {
     "data": {
      "text/plain": [
       "{'colsample_bytree': 0.80929192865947,\n",
       " 'gamma': 9.553916776586505,\n",
       " 'max_depth': 7,\n",
       " 'min_child_weight': 6.079999276892042,\n",
       " 'reg_alpha': 8.860396362258099,\n",
       " 'reg_lambda': 1.4050740023119348,\n",
       " 'scale_pos_weight': 1.4668544695338273,\n",
       " 'subsample': 0.6462619019069298,\n",
       " 'objective': 'binary:logistic',\n",
       " 'learning_rate': 0.02,\n",
       " 'random_state': 1991}"
      ]
     },
     "execution_count": 19,
     "metadata": {},
     "output_type": "execute_result"
    }
   ],
   "source": [
    "max_params['max_depth']=int(round(max_params['max_depth']))\n",
    "max_params.update(fixed_params)\n",
    "max_params"
   ]
  },
  {
   "cell_type": "code",
   "execution_count": 20,
   "metadata": {
    "ExecuteTime": {
     "end_time": "2022-08-05T18:37:09.154625Z",
     "start_time": "2022-08-05T17:17:22.912426Z"
    }
   },
   "outputs": [
    {
     "name": "stdout",
     "output_type": "stream",
     "text": [
      "######################################## Fold 1 / Fold 5 ########################################\n"
     ]
    },
    {
     "name": "stderr",
     "output_type": "stream",
     "text": [
      "C:\\ProgramData\\Anaconda3\\lib\\site-packages\\xgboost\\training.py:35: UserWarning: `feval` is deprecated, use `custom_metric` instead.  They have different behavior when custom objective is also used.See https://xgboost.readthedocs.io/en/latest/tutorials/custom_metric_obj.html for details on the `custom_metric`.\n",
      "  warnings.warn(\n"
     ]
    },
    {
     "name": "stdout",
     "output_type": "stream",
     "text": [
      "[0]\tbayes_dvalid-logloss:0.67670\tbayes_dvalid-gini:0.14491\n",
      "[100]\tbayes_dvalid-logloss:0.19133\tbayes_dvalid-gini:0.24706\n",
      "[200]\tbayes_dvalid-logloss:0.15752\tbayes_dvalid-gini:0.28347\n",
      "[300]\tbayes_dvalid-logloss:0.15391\tbayes_dvalid-gini:0.30022\n",
      "[400]\tbayes_dvalid-logloss:0.15315\tbayes_dvalid-gini:0.30964\n",
      "[500]\tbayes_dvalid-logloss:0.15284\tbayes_dvalid-gini:0.31617\n",
      "[600]\tbayes_dvalid-logloss:0.15267\tbayes_dvalid-gini:0.32120\n",
      "[700]\tbayes_dvalid-logloss:0.15249\tbayes_dvalid-gini:0.32548\n",
      "[800]\tbayes_dvalid-logloss:0.15236\tbayes_dvalid-gini:0.32935\n",
      "[900]\tbayes_dvalid-logloss:0.15223\tbayes_dvalid-gini:0.33240\n",
      "[1000]\tbayes_dvalid-logloss:0.15210\tbayes_dvalid-gini:0.33596\n",
      "[1100]\tbayes_dvalid-logloss:0.15197\tbayes_dvalid-gini:0.33913\n",
      "[1200]\tbayes_dvalid-logloss:0.15187\tbayes_dvalid-gini:0.34185\n",
      "[1300]\tbayes_dvalid-logloss:0.15176\tbayes_dvalid-gini:0.34423\n",
      "[1400]\tbayes_dvalid-logloss:0.15169\tbayes_dvalid-gini:0.34649\n",
      "[1500]\tbayes_dvalid-logloss:0.15158\tbayes_dvalid-gini:0.34914\n",
      "[1600]\tbayes_dvalid-logloss:0.15149\tbayes_dvalid-gini:0.35115\n",
      "[1700]\tbayes_dvalid-logloss:0.15140\tbayes_dvalid-gini:0.35347\n",
      "[1800]\tbayes_dvalid-logloss:0.15131\tbayes_dvalid-gini:0.35546\n",
      "[1900]\tbayes_dvalid-logloss:0.15126\tbayes_dvalid-gini:0.35753\n",
      "[1999]\tbayes_dvalid-logloss:0.15116\tbayes_dvalid-gini:0.35986\n",
      "폴드 1 지니계수. : 0.3010124061399671\n",
      "\n",
      "######################################## Fold 2 / Fold 5 ########################################\n",
      "[0]\tbayes_dvalid-logloss:0.67670\tbayes_dvalid-gini:0.13374\n",
      "[100]\tbayes_dvalid-logloss:0.19133\tbayes_dvalid-gini:0.24766\n",
      "[200]\tbayes_dvalid-logloss:0.15752\tbayes_dvalid-gini:0.28279\n",
      "[300]\tbayes_dvalid-logloss:0.15386\tbayes_dvalid-gini:0.29987\n",
      "[400]\tbayes_dvalid-logloss:0.15311\tbayes_dvalid-gini:0.30931\n",
      "[500]\tbayes_dvalid-logloss:0.15277\tbayes_dvalid-gini:0.31660\n",
      "[600]\tbayes_dvalid-logloss:0.15257\tbayes_dvalid-gini:0.32197\n",
      "[700]\tbayes_dvalid-logloss:0.15240\tbayes_dvalid-gini:0.32631\n",
      "[800]\tbayes_dvalid-logloss:0.15228\tbayes_dvalid-gini:0.32994\n",
      "[900]\tbayes_dvalid-logloss:0.15213\tbayes_dvalid-gini:0.33354\n",
      "[1000]\tbayes_dvalid-logloss:0.15199\tbayes_dvalid-gini:0.33698\n",
      "[1100]\tbayes_dvalid-logloss:0.15189\tbayes_dvalid-gini:0.33995\n",
      "[1200]\tbayes_dvalid-logloss:0.15177\tbayes_dvalid-gini:0.34266\n",
      "[1300]\tbayes_dvalid-logloss:0.15167\tbayes_dvalid-gini:0.34519\n",
      "[1400]\tbayes_dvalid-logloss:0.15153\tbayes_dvalid-gini:0.34819\n",
      "[1500]\tbayes_dvalid-logloss:0.15147\tbayes_dvalid-gini:0.35023\n",
      "[1600]\tbayes_dvalid-logloss:0.15138\tbayes_dvalid-gini:0.35226\n",
      "[1700]\tbayes_dvalid-logloss:0.15129\tbayes_dvalid-gini:0.35422\n",
      "[1800]\tbayes_dvalid-logloss:0.15123\tbayes_dvalid-gini:0.35635\n",
      "[1900]\tbayes_dvalid-logloss:0.15113\tbayes_dvalid-gini:0.35842\n",
      "[1999]\tbayes_dvalid-logloss:0.15108\tbayes_dvalid-gini:0.36029\n",
      "폴드 2 지니계수. : 0.283778677599332\n",
      "\n",
      "######################################## Fold 3 / Fold 5 ########################################\n",
      "[0]\tbayes_dvalid-logloss:0.67669\tbayes_dvalid-gini:0.14724\n",
      "[100]\tbayes_dvalid-logloss:0.19133\tbayes_dvalid-gini:0.24983\n",
      "[200]\tbayes_dvalid-logloss:0.15752\tbayes_dvalid-gini:0.28314\n",
      "[300]\tbayes_dvalid-logloss:0.15389\tbayes_dvalid-gini:0.29977\n",
      "[400]\tbayes_dvalid-logloss:0.15314\tbayes_dvalid-gini:0.30873\n",
      "[500]\tbayes_dvalid-logloss:0.15285\tbayes_dvalid-gini:0.31472\n",
      "[600]\tbayes_dvalid-logloss:0.15269\tbayes_dvalid-gini:0.31919\n",
      "[700]\tbayes_dvalid-logloss:0.15255\tbayes_dvalid-gini:0.32272\n",
      "[800]\tbayes_dvalid-logloss:0.15238\tbayes_dvalid-gini:0.32652\n",
      "[900]\tbayes_dvalid-logloss:0.15226\tbayes_dvalid-gini:0.33015\n",
      "[1000]\tbayes_dvalid-logloss:0.15213\tbayes_dvalid-gini:0.33354\n",
      "[1100]\tbayes_dvalid-logloss:0.15204\tbayes_dvalid-gini:0.33624\n",
      "[1200]\tbayes_dvalid-logloss:0.15192\tbayes_dvalid-gini:0.33903\n",
      "[1300]\tbayes_dvalid-logloss:0.15182\tbayes_dvalid-gini:0.34180\n",
      "[1400]\tbayes_dvalid-logloss:0.15173\tbayes_dvalid-gini:0.34384\n",
      "[1500]\tbayes_dvalid-logloss:0.15166\tbayes_dvalid-gini:0.34574\n",
      "[1600]\tbayes_dvalid-logloss:0.15157\tbayes_dvalid-gini:0.34820\n",
      "[1700]\tbayes_dvalid-logloss:0.15149\tbayes_dvalid-gini:0.35012\n",
      "[1800]\tbayes_dvalid-logloss:0.15141\tbayes_dvalid-gini:0.35194\n",
      "[1900]\tbayes_dvalid-logloss:0.15133\tbayes_dvalid-gini:0.35392\n",
      "[1999]\tbayes_dvalid-logloss:0.15126\tbayes_dvalid-gini:0.35598\n",
      "폴드 3 지니계수. : 0.28490942606032427\n",
      "\n",
      "######################################## Fold 4 / Fold 5 ########################################\n",
      "[0]\tbayes_dvalid-logloss:0.67669\tbayes_dvalid-gini:0.12648\n",
      "[100]\tbayes_dvalid-logloss:0.19125\tbayes_dvalid-gini:0.25035\n",
      "[200]\tbayes_dvalid-logloss:0.15746\tbayes_dvalid-gini:0.28425\n",
      "[300]\tbayes_dvalid-logloss:0.15390\tbayes_dvalid-gini:0.29932\n",
      "[400]\tbayes_dvalid-logloss:0.15316\tbayes_dvalid-gini:0.30830\n",
      "[500]\tbayes_dvalid-logloss:0.15290\tbayes_dvalid-gini:0.31375\n",
      "[600]\tbayes_dvalid-logloss:0.15271\tbayes_dvalid-gini:0.31834\n",
      "[700]\tbayes_dvalid-logloss:0.15255\tbayes_dvalid-gini:0.32270\n",
      "[800]\tbayes_dvalid-logloss:0.15240\tbayes_dvalid-gini:0.32651\n",
      "[900]\tbayes_dvalid-logloss:0.15227\tbayes_dvalid-gini:0.32995\n",
      "[1000]\tbayes_dvalid-logloss:0.15215\tbayes_dvalid-gini:0.33292\n",
      "[1100]\tbayes_dvalid-logloss:0.15205\tbayes_dvalid-gini:0.33587\n",
      "[1200]\tbayes_dvalid-logloss:0.15194\tbayes_dvalid-gini:0.33855\n",
      "[1300]\tbayes_dvalid-logloss:0.15186\tbayes_dvalid-gini:0.34099\n",
      "[1400]\tbayes_dvalid-logloss:0.15176\tbayes_dvalid-gini:0.34327\n",
      "[1500]\tbayes_dvalid-logloss:0.15167\tbayes_dvalid-gini:0.34559\n",
      "[1600]\tbayes_dvalid-logloss:0.15157\tbayes_dvalid-gini:0.34783\n",
      "[1700]\tbayes_dvalid-logloss:0.15146\tbayes_dvalid-gini:0.35064\n",
      "[1800]\tbayes_dvalid-logloss:0.15137\tbayes_dvalid-gini:0.35264\n",
      "[1900]\tbayes_dvalid-logloss:0.15132\tbayes_dvalid-gini:0.35440\n",
      "[1999]\tbayes_dvalid-logloss:0.15123\tbayes_dvalid-gini:0.35658\n",
      "폴드 4 지니계수. : 0.27898906674047186\n",
      "\n",
      "######################################## Fold 5 / Fold 5 ########################################\n",
      "[0]\tbayes_dvalid-logloss:0.67670\tbayes_dvalid-gini:0.13762\n",
      "[100]\tbayes_dvalid-logloss:0.19128\tbayes_dvalid-gini:0.24881\n",
      "[200]\tbayes_dvalid-logloss:0.15751\tbayes_dvalid-gini:0.28175\n",
      "[300]\tbayes_dvalid-logloss:0.15397\tbayes_dvalid-gini:0.29687\n",
      "[400]\tbayes_dvalid-logloss:0.15326\tbayes_dvalid-gini:0.30543\n",
      "[500]\tbayes_dvalid-logloss:0.15295\tbayes_dvalid-gini:0.31190\n",
      "[600]\tbayes_dvalid-logloss:0.15276\tbayes_dvalid-gini:0.31701\n",
      "[700]\tbayes_dvalid-logloss:0.15258\tbayes_dvalid-gini:0.32099\n",
      "[800]\tbayes_dvalid-logloss:0.15247\tbayes_dvalid-gini:0.32461\n",
      "[900]\tbayes_dvalid-logloss:0.15235\tbayes_dvalid-gini:0.32764\n",
      "[1000]\tbayes_dvalid-logloss:0.15223\tbayes_dvalid-gini:0.33118\n",
      "[1100]\tbayes_dvalid-logloss:0.15214\tbayes_dvalid-gini:0.33342\n",
      "[1200]\tbayes_dvalid-logloss:0.15203\tbayes_dvalid-gini:0.33613\n",
      "[1300]\tbayes_dvalid-logloss:0.15192\tbayes_dvalid-gini:0.33892\n",
      "[1400]\tbayes_dvalid-logloss:0.15182\tbayes_dvalid-gini:0.34162\n",
      "[1500]\tbayes_dvalid-logloss:0.15173\tbayes_dvalid-gini:0.34399\n",
      "[1600]\tbayes_dvalid-logloss:0.15165\tbayes_dvalid-gini:0.34639\n",
      "[1700]\tbayes_dvalid-logloss:0.15155\tbayes_dvalid-gini:0.34817\n",
      "[1800]\tbayes_dvalid-logloss:0.15150\tbayes_dvalid-gini:0.34984\n",
      "[1900]\tbayes_dvalid-logloss:0.15145\tbayes_dvalid-gini:0.35141\n",
      "[1999]\tbayes_dvalid-logloss:0.15135\tbayes_dvalid-gini:0.35384\n",
      "폴드 5 지니계수. : 0.29756193072250536\n",
      "\n"
     ]
    }
   ],
   "source": [
    "from sklearn.model_selection import StratifiedKFold\n",
    "\n",
    "# 층화 K-Fold 교차 검증기 생성\n",
    "folds = StratifiedKFold(n_splits = 5, shuffle = True, random_state = 1991)\n",
    "\n",
    "# OOF -> 검증 데이터\n",
    "oof_val_preds = np.zeros(X.shape[0])\n",
    "\n",
    "# OOF -> 테스트 데이터\n",
    "oof_test_preds = np.zeros(X_test.shape[0])\n",
    "\n",
    "# OOF 훈련, 예측 \n",
    "for idx, (train_idx, valid_idx) in enumerate(folds.split(X, y)) :\n",
    "    # 각 폴드 구분\n",
    "    print('#'*40, f'Fold {idx+1} / Fold {folds.n_splits}' ,'#'*40)\n",
    "    \n",
    "    # Split data \n",
    "    X_train, y_train = X[train_idx], y[train_idx]\n",
    "    X_valid, y_valid = X[valid_idx], y[valid_idx]\n",
    "    \n",
    "    # XGBoost dataset \n",
    "    dtrain = xgb.DMatrix(X_train, y_train)\n",
    "    dvalid = xgb.DMatrix(X_valid, y_valid)\n",
    "    dtest = xgb.DMatrix(X_test)\n",
    "    \n",
    "    # XGBoost training \n",
    "    xgb_model = xgb.train(params = max_params,\n",
    "                          dtrain= dtrain,\n",
    "                          num_boost_round = 2000, \n",
    "                          evals=[(bayes_dvalid,'bayes_dvalid')],\n",
    "                          maximize=True,\n",
    "                          feval=gini,\n",
    "                          early_stopping_rounds = 200,\n",
    "                          verbose_eval = 100)\n",
    "    #가장 좋은 부스팅 횟수 저장\n",
    "    best_iter=xgb_model.best_iteration\n",
    "   #테스트 데이터를 활용해 OOF 예측\n",
    "    oof_test_preds += xgb_model.predict(dtest,iteration_range=(0,best_iter))/folds.n_splits\n",
    "    \n",
    "     #모델 성능 평가를 위한 검증 데이터 타깃값 예측\n",
    "    oof_val_preds[valid_idx] += xgb_model.predict(dvalid,iteration_range=(0,best_iter))\n",
    "    \n",
    "   #검증 데이터 예측 확률에 대한 정규화 지니계수\n",
    "    gini_score = eval_gini(y_valid, oof_val_preds[valid_idx])\n",
    "    \n",
    "    print(f'폴드 {idx+1} 지니계수. : {gini_score}\\n')"
   ]
  },
  {
   "cell_type": "code",
   "execution_count": 21,
   "metadata": {
    "ExecuteTime": {
     "end_time": "2022-08-05T18:37:09.366561Z",
     "start_time": "2022-08-05T18:37:09.162450Z"
    }
   },
   "outputs": [
    {
     "name": "stdout",
     "output_type": "stream",
     "text": [
      "OOF 검증 데이터 지니계수 : 0.28909097524157995\n"
     ]
    }
   ],
   "source": [
    "print(f'OOF 검증 데이터 지니계수 :' ,eval_gini(y, oof_val_preds))"
   ]
  },
  {
   "cell_type": "markdown",
   "metadata": {},
   "source": [
    "# 예측 및 결과 제출"
   ]
  },
  {
   "cell_type": "code",
   "execution_count": 22,
   "metadata": {
    "ExecuteTime": {
     "end_time": "2022-08-05T18:37:12.610267Z",
     "start_time": "2022-08-05T18:37:09.372546Z"
    }
   },
   "outputs": [],
   "source": [
    "submission['target'] = oof_test_preds\n",
    "submission.to_csv('submission_xgb.csv')"
   ]
  },
  {
   "attachments": {
    "image.png": {
     "image/png": "[encoded data removed]"
    }
   },
   "cell_type": "markdown",
   "metadata": {},
   "source": [
    "![image.png](attachment:image.png)"
   ]
  },
  {
   "cell_type": "markdown",
   "metadata": {},
   "source": [
    "# LightGBM + XGBoost 앙상블"
   ]
  },
  {
   "cell_type": "markdown",
   "metadata": {},
   "source": [
    "## 앙상블 수행"
   ]
  },
  {
   "cell_type": "code",
   "execution_count": 23,
   "metadata": {
    "ExecuteTime": {
     "end_time": "2022-08-05T18:37:17.814880Z",
     "start_time": "2022-08-05T18:37:12.612209Z"
    }
   },
   "outputs": [],
   "source": [
    "submission_ensemble =  pd.read_csv('./sample_submission.csv', index_col = 'id')\n",
    "sub_xgb = pd.read_csv('submission_xgb.csv', index_col = 'id')\n",
    "sub_lgb = pd.read_csv('submission_lgb.csv', index_col = 'id')\n",
    "\n",
    "submission_ensemble['target'] = 0.5*sub_xgb['target']+0.5*sub_lgb['target']\n",
    "submission_ensemble.to_csv('submission_ensemble.csv')"
   ]
  },
  {
   "attachments": {
    "image.png": {
     "image/png": "[encoded data removed]"
    }
   },
   "cell_type": "markdown",
   "metadata": {},
   "source": [
    "![image.png](attachment:image.png)"
   ]
  }
 ],
 "metadata": {
  "kernelspec": {
   "display_name": "Python 3",
   "language": "python",
   "name": "python3"
  },
  "language_info": {
   "codemirror_mode": {
    "name": "ipython",
    "version": 3
   },
   "file_extension": ".py",
   "mimetype": "text/x-python",
   "name": "python",
   "nbconvert_exporter": "python",
   "pygments_lexer": "ipython3",
   "version": "3.8.5"
  },
  "toc": {
   "base_numbering": 1,
   "nav_menu": {},
   "number_sections": true,
   "sideBar": true,
   "skip_h1_title": false,
   "title_cell": "Table of Contents",
   "title_sidebar": "Contents",
   "toc_cell": false,
   "toc_position": {},
   "toc_section_display": true,
   "toc_window_display": false
  }
 },
 "nbformat": 4,
 "nbformat_minor": 4
}
